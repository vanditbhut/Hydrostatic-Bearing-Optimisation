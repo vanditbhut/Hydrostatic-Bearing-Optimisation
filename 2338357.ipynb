{
 "cells": [
  {
   "cell_type": "code",
   "execution_count": 1,
   "id": "30f3913b",
   "metadata": {},
   "outputs": [],
   "source": [
    "# Import necessary libraries\n",
    "import numpy as np                 # Numerical operations and array handling\n",
    "import random                      # Random number generation\n",
    "import matplotlib.pyplot as plt    # Plotting and visualization\n",
    "import seaborn as sns              # Statistical data visualization based on Matplotlib\n",
    "import pandas as pd                # Data manipulation and analysis tools\n",
    "from scipy.stats import ttest_rel  # Paired t-test for statistical analysis\n",
    "import time                        # Timing and performance measurement"
   ]
  },
  {
   "cell_type": "code",
   "execution_count": 2,
   "id": "221470dd",
   "metadata": {},
   "outputs": [],
   "source": [
    "# Function to calculate load carrying capacity\n",
    "def W(x):\n",
    "    return (np.pi * P0(x) / 2) * ((x[2]**2 - x[1]**2) / np.log(np.clip(x[2] / x[1], 1e-10, None)))\n",
    "\n",
    "# Function to calculate inlet pressure\n",
    "def P0(x):\n",
    "    return (((6 * 10**-6 * x[3] * x[0]) * (np.log(np.clip(x[2] / x[1], 1e-10, None)))) / (np.pi * h(x)**3))\n",
    "\n",
    "# Function to calculate friction loss\n",
    "def Ef(x):\n",
    "    return 143.308 * DeltaT(x) * x[0]\n",
    "\n",
    "# Function to calculate temperature difference\n",
    "def DeltaT(x):\n",
    "    return 2 * (10**P(x) - 560)\n",
    "\n",
    "# Function to calculate pressure\n",
    "def P(x):\n",
    "    arg = 8.122 * x[3] + 0.8\n",
    "    if arg <= 0:\n",
    "        return np.nan  # or any other suitable value to indicate an invalid result\n",
    "    return (np.log10(np.log10(arg)) - 10.04) / -3.55\n",
    "\n",
    "# Function to calculate oil thickness\n",
    "def h(x):\n",
    "    return (((1500 * np.pi) / 60)**2) * (((2 * 10**-6 * np.pi * x[3]) / Ef(x)) * ((x[2]**4 - x[1]**4) / 4))\n"
   ]
  },
  {
   "cell_type": "code",
   "execution_count": 3,
   "id": "6f45b2f3",
   "metadata": {},
   "outputs": [
    {
     "name": "stdout",
     "output_type": "stream",
     "text": [
      "W(x): -0.015287595429129719\n",
      "P0(x): -5.983042094105245e-05\n",
      "Ef(x): -1784.0769925953873\n",
      "DeltaT(x): -2.971181173735431\n",
      "P(x): 2.747034382192692\n",
      "h(x): 0.9206377239881502\n"
     ]
    }
   ],
   "source": [
    "# Example values for the decision vector\n",
    "Q_value = 4.19\n",
    "R0_value = 11.57\n",
    "R_value = 6.69\n",
    "mu_value = 10.65\n",
    "\n",
    "# Create a numpy array with example values\n",
    "x_ex = np.array([Q_value, R0_value, R_value, mu_value])\n",
    "\n",
    "# Calculate results using the defined functions\n",
    "result_W = W(x_ex)\n",
    "result_P0 = P0(x_ex)\n",
    "result_Ef = Ef(x_ex)\n",
    "result_DeltaT = DeltaT(x_ex)\n",
    "result_P = P(x_ex)\n",
    "result_h = h(x_ex)\n",
    "\n",
    "# Print the results\n",
    "print(f'W(x): {result_W}')\n",
    "print(f'P0(x): {result_P0}')\n",
    "print(f'Ef(x): {result_Ef}')\n",
    "print(f'DeltaT(x): {result_DeltaT}')\n",
    "print(f'P(x): {result_P}')\n",
    "print(f'h(x): {result_h}')\n"
   ]
  },
  {
   "cell_type": "code",
   "execution_count": 4,
   "id": "4755d726",
   "metadata": {},
   "outputs": [],
   "source": [
    "# Task 1 - Implementation of the functions\n",
    "\n",
    "# Function f(x)\n",
    "def f(x):\n",
    "    return (P0(x) * x[0]) / 0.7 + Ef(x)\n",
    "\n",
    "# Constraints g1(x) to g7(x)\n",
    "# Function to calculate weight capacity\n",
    "def g1(x):\n",
    "    return 101000 - W(x)\n",
    "\n",
    "# Function to calculate inlet oil pressure\n",
    "def g2(x):\n",
    "    return P0(x) - 1000\n",
    "\n",
    "# Function to calculate oil temperature rise\n",
    "def g3(x):\n",
    "    return DeltaT(x) - 50\n",
    "\n",
    "# Function to calculate oil film thickness \n",
    "def g4(x):\n",
    "    return 0.001 - h(x)\n",
    "\n",
    "def g5(x):\n",
    "    return x[1] - x[2]\n",
    "\n",
    "# Function to calculate exit loss\n",
    "def g6(x):\n",
    "    return ((0.0307 * x[0])/(772.8 * np.pi * P0(x) * h(x) * x[2])) - 0.001\n",
    "\n",
    "# Function to calculate contact pressure\n",
    "def g7(x):\n",
    "    return (W(x) / (np.pi * (x[2]**2 - x[1]**2))) - 5000"
   ]
  },
  {
   "cell_type": "code",
   "execution_count": 5,
   "id": "9d426fb6",
   "metadata": {},
   "outputs": [
    {
     "name": "stdout",
     "output_type": "stream",
     "text": [
      "f(x): -1784.0773507231927\n",
      "g1(x): 101000.01528759542\n",
      "g2(x): -1000.0000598304209\n",
      "g3(x): -52.97118117373543\n",
      "g4(x): -0.9196377239881502\n",
      "g5(x): 4.88\n",
      "g6(x): -0.14477999681964235\n",
      "g7(x): -4999.999945390436\n"
     ]
    }
   ],
   "source": [
    "x_ex = np.array([Q_value, R0_value, R_value, mu_value])  # Replace with actual values\n",
    "result_f = f(x_ex)\n",
    "result_g1 = g1(x_ex)\n",
    "result_g2 = g2(x_ex)\n",
    "result_g3 = g3(x_ex)\n",
    "result_g4 = g4(x_ex)\n",
    "result_g5 = g5(x_ex)\n",
    "result_g6 = g6(x_ex)\n",
    "result_g7 = g7(x_ex)\n",
    "\n",
    "# Print the results\n",
    "print(f'f(x): {result_f}')\n",
    "print(f'g1(x): {result_g1}')\n",
    "print(f'g2(x): {result_g2}')\n",
    "print(f'g3(x): {result_g3}')\n",
    "print(f'g4(x): {result_g4}')\n",
    "print(f'g5(x): {result_g5}')\n",
    "print(f'g6(x): {result_g6}')\n",
    "print(f'g7(x): {result_g7}')"
   ]
  },
  {
   "cell_type": "code",
   "execution_count": 6,
   "id": "e7e587a2",
   "metadata": {},
   "outputs": [],
   "source": [
    "# Task 2 - Implementation of the Random Search (RS)\n",
    "\n",
    "def random_search(objective_function, constraints, penalty_factor=1e6, num_iterations=10000, seed=None):\n",
    "    np.random.seed(seed)\n",
    "\n",
    "    best_solution = None\n",
    "    best_objective_value = np.inf\n",
    "\n",
    "    for _ in range(num_iterations):\n",
    "        candidate_solution = np.random.uniform(low=[1, 1, 1, 1], high=[16, 16, 16, 16])\n",
    "\n",
    "        # Apply penalty for violating constraints\n",
    "        penalty_term = sum(max(0, constraint(candidate_solution)) for constraint in constraints)\n",
    "        objective_value = objective_function(candidate_solution) + penalty_factor * penalty_term\n",
    "\n",
    "        # Check if the candidate solution satisfies constraints\n",
    "        if all(constraint(candidate_solution) <= 0 for constraint in constraints):\n",
    "            # Update the best solution if the current one is better\n",
    "            if objective_value < best_objective_value:\n",
    "                best_solution = candidate_solution\n",
    "                best_objective_value = objective_value\n",
    "\n",
    "    return best_solution, best_objective_value"
   ]
  },
  {
   "cell_type": "code",
   "execution_count": 7,
   "id": "d485df6b",
   "metadata": {},
   "outputs": [],
   "source": [
    "constraints_list = [g1, g2, g3, g4, g5, g6, g7]"
   ]
  },
  {
   "cell_type": "code",
   "execution_count": 8,
   "id": "34a92b69",
   "metadata": {},
   "outputs": [
    {
     "name": "stdout",
     "output_type": "stream",
     "text": [
      "Best Solution: [9.90091195 7.0871234  7.79804603 7.51275279]\n",
      "Best Objective Value: 42203.04628364858\n"
     ]
    }
   ],
   "source": [
    "# Example usage with penalty function\n",
    "best_solution, best_objective_value = random_search(f, constraints_list, penalty_factor=1e6, num_iterations=10000, seed=55)\n",
    "\n",
    "print(\"Best Solution:\", best_solution)\n",
    "print(\"Best Objective Value:\", best_objective_value)"
   ]
  },
  {
   "cell_type": "code",
   "execution_count": 9,
   "id": "fcb20b38",
   "metadata": {},
   "outputs": [],
   "source": [
    "# Task 3 - Implementation of simulated annealing (SA)\n",
    "\n",
    "def simulated_annealing(objective_function, constraints, penalty_factor=1e6, initial_temperature=100.0, cooling_rate=0.50, num_iterations=10000, seed=None):\n",
    "    np.random.seed(seed)\n",
    "\n",
    "    current_solution = np.random.uniform(low=[1, 1, 1, 1], high=[16, 16, 16, 16])\n",
    "    best_solution = current_solution\n",
    "    temperature = initial_temperature\n",
    "\n",
    "    for iteration in range(num_iterations):\n",
    "        # Generate a candidate solution using normal distribution\n",
    "        candidate_solution = current_solution + np.random.normal(scale=temperature, size=len(current_solution))\n",
    "\n",
    "        # Apply death penalty for violating constraints\n",
    "        penalty_term = sum(max(0, constraint(candidate_solution)) for constraint in constraints)\n",
    "        candidate_objective_value = max(0, objective_function(candidate_solution)) + penalty_factor * penalty_term\n",
    "\n",
    "        # Check if the candidate objective value is valid\n",
    "        if not np.isfinite(candidate_objective_value):\n",
    "            continue  # Skip this iteration if the objective value is invalid\n",
    "\n",
    "        # Calculate acceptance probability\n",
    "        acceptance_prob = np.exp((objective_function(current_solution) - candidate_objective_value) / temperature)\n",
    "\n",
    "        # Accept or reject the candidate solution probabilistically\n",
    "        if (candidate_objective_value < objective_function(current_solution)) or (np.random.rand() < acceptance_prob):\n",
    "            current_solution = candidate_solution\n",
    "\n",
    "        # Update the best solution if the current one is better\n",
    "        if objective_function(current_solution) < objective_function(best_solution):\n",
    "            best_solution = current_solution\n",
    "\n",
    "        # Cool down the temperature\n",
    "        temperature *= cooling_rate\n",
    "\n",
    "    return best_solution, objective_function(best_solution)"
   ]
  },
  {
   "cell_type": "code",
   "execution_count": 10,
   "id": "5c0ac446",
   "metadata": {},
   "outputs": [
    {
     "name": "stdout",
     "output_type": "stream",
     "text": [
      "Best Solution (Simulated Annealing): [11.44703778  5.29209002  4.4027718   9.26972154]\n",
      "Best Objective Value (Simulated Annealing): 29213.148056372847\n"
     ]
    }
   ],
   "source": [
    "# Example usage with simulated annealing\n",
    "best_solution_sa, best_objective_value_sa = simulated_annealing(f, constraints_list, penalty_factor=1e6, initial_temperature=100.0, cooling_rate=0.95, num_iterations=10000, seed=123)\n",
    "\n",
    "print(\"Best Solution (Simulated Annealing):\", best_solution_sa)\n",
    "print(\"Best Objective Value (Simulated Annealing):\", best_objective_value_sa)"
   ]
  },
  {
   "cell_type": "code",
   "execution_count": 11,
   "id": "db1b5bb5",
   "metadata": {
    "scrolled": false
   },
   "outputs": [],
   "source": [
    "# Task 4 - compare and comment on the performances of these optimisers\n",
    "\n",
    "def run_optimization_algorithm(algorithm, repetitions, objective_function, constraints, num_iterations=10000, seed=None):\n",
    "    total_runtimes = []\n",
    "    best_objective_values = []\n",
    "\n",
    "    for i in range(repetitions):\n",
    "        current_seed = [33, 37, 40, 42, 43, 44, 54, 55, 57, 76, 94, 105, 107, 114, 120, 122, 123, 141, 143, 144, 146]\n",
    "        start_time = time.time()\n",
    "        best_solution, best_objective_value = algorithm(objective_function, constraints, penalty_factor=1e6, num_iterations=10000, seed=current_seed[i])\n",
    "        print(\"Best Objective Value for \", current_seed[i], \":\" , best_objective_value)\n",
    "        end_time = time.time()\n",
    "\n",
    "        total_runtimes.append(end_time - start_time)\n",
    "        best_objective_values.append(best_objective_value)\n",
    "\n",
    "    return total_runtimes, best_objective_values"
   ]
  },
  {
   "cell_type": "code",
   "execution_count": 12,
   "id": "6e4d84ce",
   "metadata": {},
   "outputs": [
    {
     "name": "stdout",
     "output_type": "stream",
     "text": [
      "Best Objective Value for Random Search\n",
      "\n",
      "Best Objective Value for  33 : 55383.27044941318\n",
      "Best Objective Value for  37 : 40769.898591359524\n",
      "Best Objective Value for  40 : 38779.22119150019\n",
      "Best Objective Value for  42 : 44355.43426902738\n",
      "Best Objective Value for  43 : 51820.45475063368\n",
      "Best Objective Value for  44 : 36337.55374059112\n",
      "Best Objective Value for  54 : 56818.04084088361\n",
      "Best Objective Value for  55 : 42203.04628364858\n",
      "Best Objective Value for  57 : 68371.78789556821\n",
      "Best Objective Value for  76 : 53341.91486818714\n",
      "Best Objective Value for  94 : 45540.00066773138\n",
      "Best Objective Value for  105 : 63728.32388101222\n",
      "Best Objective Value for  107 : 46142.2681736943\n",
      "Best Objective Value for  114 : 77430.29229369742\n",
      "Best Objective Value for  120 : 70430.36854725468\n",
      "Best Objective Value for  122 : 39202.015228756296\n",
      "Best Objective Value for  123 : 50761.56301026706\n",
      "Best Objective Value for  141 : 30709.232303107485\n",
      "Best Objective Value for  143 : 62091.42324557705\n",
      "Best Objective Value for  144 : 46580.10951033946\n",
      "Best Objective Value for  146 : 37286.93139151778\n",
      "\n",
      "Best Objective Value for simulated annealing\n",
      "\n"
     ]
    },
    {
     "name": "stderr",
     "output_type": "stream",
     "text": [
      "C:\\Users\\WIN10\\AppData\\Local\\Temp\\ipykernel_12208\\3465671801.py:23: RuntimeWarning: overflow encountered in exp\n",
      "  acceptance_prob = np.exp((objective_function(current_solution) - candidate_objective_value) / temperature)\n"
     ]
    },
    {
     "name": "stdout",
     "output_type": "stream",
     "text": [
      "Best Objective Value for  33 : 53260.761877475874\n"
     ]
    },
    {
     "name": "stderr",
     "output_type": "stream",
     "text": [
      "C:\\Users\\WIN10\\AppData\\Local\\Temp\\ipykernel_12208\\3465671801.py:23: RuntimeWarning: overflow encountered in scalar divide\n",
      "  acceptance_prob = np.exp((objective_function(current_solution) - candidate_objective_value) / temperature)\n",
      "C:\\Users\\WIN10\\AppData\\Local\\Temp\\ipykernel_12208\\3465671801.py:23: RuntimeWarning: divide by zero encountered in scalar divide\n",
      "  acceptance_prob = np.exp((objective_function(current_solution) - candidate_objective_value) / temperature)\n"
     ]
    },
    {
     "name": "stdout",
     "output_type": "stream",
     "text": [
      "Best Objective Value for  37 : 7477.968241862476\n",
      "Best Objective Value for  40 : 51860.086341097296\n",
      "Best Objective Value for  42 : 1520.564120192851\n",
      "Best Objective Value for  43 : 24696.558587294378\n",
      "Best Objective Value for  44 : 68758.63874442152\n",
      "Best Objective Value for  54 : 11889.258562160976\n",
      "Best Objective Value for  55 : 21506.61175231023\n",
      "Best Objective Value for  57 : 15083.73054270584\n",
      "Best Objective Value for  76 : 63678.64748914076\n",
      "Best Objective Value for  94 : 41296.29144518208\n",
      "Best Objective Value for  105 : 38909.52165624135\n",
      "Best Objective Value for  107 : 33434.809371295676\n",
      "Best Objective Value for  114 : 6946.908939088708\n",
      "Best Objective Value for  120 : 26249.02741610519\n",
      "Best Objective Value for  122 : 9600.779574834205\n",
      "Best Objective Value for  123 : 29213.148056372847\n",
      "Best Objective Value for  141 : 64860.271154215625\n",
      "Best Objective Value for  143 : 49586.1335767283\n",
      "Best Objective Value for  144 : 29633.069478559122\n",
      "Best Objective Value for  146 : 71639.99320258788\n",
      "\n"
     ]
    }
   ],
   "source": [
    "# Run Random Search for 21 repetitions with different seeds\n",
    "print(\"Best Objective Value for Random Search\")\n",
    "print()\n",
    "rs_runtimes, rs_objective_values = run_optimization_algorithm(random_search, 21, f, constraints_list, num_iterations=10000, seed=55)\n",
    "print()\n",
    "\n",
    "# Run Simulated Annealing for 21 repetitions with different seeds\n",
    "print(\"Best Objective Value for simulated annealing\")\n",
    "print()\n",
    "sa_runtimes, sa_objective_values = run_optimization_algorithm(simulated_annealing, 21, f, constraints_list, num_iterations=10000, seed=55)\n",
    "print()\n",
    "\n",
    "# Combine the results for box plot\n",
    "all_results = rs_objective_values + sa_objective_values\n",
    "all_labels = ['Random Search'] * len(rs_objective_values) + ['Simulated Annealing'] * len(sa_objective_values)\n",
    "\n",
    "# Create a DataFrame\n",
    "data = pd.DataFrame({'Optimizer': all_labels, 'Objective Value': all_results})"
   ]
  },
  {
   "cell_type": "code",
   "execution_count": 13,
   "id": "3bb64207",
   "metadata": {},
   "outputs": [
    {
     "data": {
      "image/png": "[encoded data removed]",
      "text/plain": [
       "<Figure size 800x600 with 1 Axes>"
      ]
     },
     "metadata": {},
     "output_type": "display_data"
    }
   ],
   "source": [
    "# Create a box plot\n",
    "plt.figure(figsize=(8, 6))\n",
    "sns.boxplot(x='Optimizer', y='Objective Value', data=data)\n",
    "plt.title('Box Plot of Objective Values for Random Search and Simulated Annealing')\n",
    "plt.ylabel('Objective Value')\n",
    "plt.show()"
   ]
  },
  {
   "cell_type": "code",
   "execution_count": 14,
   "id": "00d2d0d2",
   "metadata": {},
   "outputs": [
    {
     "name": "stdout",
     "output_type": "stream",
     "text": [
      "T-Statistic: 2.541932598305164\n",
      "P-Value: 0.019410124275262824\n"
     ]
    }
   ],
   "source": [
    "# Perform a paired t-test\n",
    "t_statistic, p_value = ttest_rel(rs_objective_values, sa_objective_values)\n",
    "print(f'T-Statistic: {t_statistic}')\n",
    "print(f'P-Value: {p_value}')"
   ]
  },
  {
   "cell_type": "code",
   "execution_count": 15,
   "id": "c7af0bd8",
   "metadata": {},
   "outputs": [
    {
     "name": "stdout",
     "output_type": "stream",
     "text": [
      "The difference in performance is statistically significant.\n"
     ]
    }
   ],
   "source": [
    "# Interpret the statistical test result\n",
    "alpha = 0.05\n",
    "if p_value < alpha:\n",
    "    print('The difference in performance is statistically significant.')\n",
    "else:\n",
    "    print('There is no statistically significant difference in performance.')"
   ]
  },
  {
   "cell_type": "code",
   "execution_count": 16,
   "id": "b2d297e5",
   "metadata": {},
   "outputs": [
    {
     "name": "stdout",
     "output_type": "stream",
     "text": [
      "The observed differences in performance between Random Search and Simulated Annealing are statistically significant or if they could have occurred by chance. If the p-value is below the chosen significance level (here, 0.05), it suggests that the observed differences are unlikely to be due to random chance, and the conclusion is that there is a statistically significant difference in performance between the two optimization algorithms. If the p-value is above the significance level, the code concludes that there is no statistically significant difference.\n"
     ]
    }
   ],
   "source": [
    "print(\"The observed differences in performance between Random Search and Simulated Annealing are statistically significant or if they could have occurred by chance. If the p-value is below the chosen significance level (here, 0.05), it suggests that the observed differences are unlikely to be due to random chance, and the conclusion is that there is a statistically significant difference in performance between the two optimization algorithms. If the p-value is above the significance level, the code concludes that there is no statistically significant difference.\")"
   ]
  }
 ],
 "metadata": {
  "kernelspec": {
   "display_name": "Python 3 (ipykernel)",
   "language": "python",
   "name": "python3"
  },
  "language_info": {
   "codemirror_mode": {
    "name": "ipython",
    "version": 3
   },
   "file_extension": ".py",
   "mimetype": "text/x-python",
   "name": "python",
   "nbconvert_exporter": "python",
   "pygments_lexer": "ipython3",
   "version": "3.11.5"
  }
 },
 "nbformat": 4,
 "nbformat_minor": 5
}
